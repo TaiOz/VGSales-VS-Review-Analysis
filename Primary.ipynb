{
 "cells": [
  {
   "cell_type": "markdown",
   "id": "47771520-8c4e-401d-8109-0a46c32986e2",
   "metadata": {},
   "source": [
    "**Video Game Sales Analysis: A comparison of Profressional and Audience Reviews**\n",
    "\n",
    "In the modern age, the internet has set down deep roots within society, letting humans communicate their experiences and opinions across the globe. However, an interesting phenomena that has reared it's head over the last couple of decades has been the differing opinions of professional critics and your average consumer when it comes to reviewing entertainment.\n",
    "\n",
    "However, if the theory that the quality and review of the entertainment correlates with the amount of sales, then who is correct in this assumption?\n",
    "\n",
    "In this study, I am going to dive into the video game market, and study if there is a correlation between the sales amount and the review score of both the consumer and the critic.\n",
    "\n",
    "I will be documenting each step of my study, for educational purposes."
   ]
  },
  {
   "cell_type": "code",
   "execution_count": 1,
   "id": "9878e817-5ad0-4716-9292-503259803f97",
   "metadata": {},
   "outputs": [],
   "source": [
    "import pandas as pd\n",
    "import numpy as np\n",
    "import matplotlib.pyplot as plt\n",
    "import seaborn as sns\n",
    "import requests\n",
    "from bs4 import BeautifulSoup"
   ]
  },
  {
   "cell_type": "markdown",
   "id": "ff786b68-e7fe-4899-a6bd-bdfd70bce1c7",
   "metadata": {},
   "source": [
    "**The Datasets**\n",
    "\n",
    "**Global Video Game Sales**: The original dataset only had games up to 2016. However, since this study is made in 2024, I wanted to scrap the data from VGchartz to include all the latest data."
   ]
  },
  {
   "cell_type": "code",
   "execution_count": null,
   "id": "d4dea7ea-fa34-4a3e-821c-0a9f20846fe5",
   "metadata": {},
   "outputs": [],
   "source": [
    "\n"
   ]
  },
  {
   "cell_type": "code",
   "execution_count": null,
   "id": "33a41411-faa1-4c3c-b133-b44a810ad8f7",
   "metadata": {},
   "outputs": [],
   "source": []
  }
 ],
 "metadata": {
  "kernelspec": {
   "display_name": "Python 3 (ipykernel)",
   "language": "python",
   "name": "python3"
  },
  "language_info": {
   "codemirror_mode": {
    "name": "ipython",
    "version": 3
   },
   "file_extension": ".py",
   "mimetype": "text/x-python",
   "name": "python",
   "nbconvert_exporter": "python",
   "pygments_lexer": "ipython3",
   "version": "3.12.1"
  }
 },
 "nbformat": 4,
 "nbformat_minor": 5
}
